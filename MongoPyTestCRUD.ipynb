{
 "cells": [
  {
   "cell_type": "code",
   "execution_count": 1,
   "metadata": {},
   "outputs": [
    {
     "name": "stdout",
     "output_type": "stream",
     "text": [
      "Connected to Database\n",
      "<pymongo.results.InsertOneResult object at 0x7fafc870ae88>\n",
      "Success!\n",
      "{'n': 1, 'nModified': 1, 'ok': 1.0, 'updatedExisting': True}\n",
      "Success!\n",
      "{'n': 1, 'nModified': 1, 'ok': 1.0, 'updatedExisting': True}\n",
      "Success!\n",
      "<pymongo.results.DeleteResult object at 0x7fafc870af08>\n"
     ]
    },
    {
     "data": {
      "text/plain": [
       "True"
      ]
     },
     "execution_count": 1,
     "metadata": {},
     "output_type": "execute_result"
    }
   ],
   "source": [
    "import PyMongoModule as driver\n",
    "shelter = driver.AnimalShelter(\"aacuser\", \"ryan\")\n",
    "\n",
    "testData = {\n",
    "    '1': 4,\n",
    "    'age_upon_outcome': '10 years',\n",
    "    'animal_id': 'ABCD',\n",
    "    'animal_type': 'testType',\n",
    "    'breed': 'testBreed',\n",
    "    'color': 'testColor',\n",
    "    'date_of_birth': 'testDOB',\n",
    "    'datetime': '2021-09-25 12:04:01',\n",
    "    'monthyear': '2021-09-25 12:04:02',\n",
    "    'name': 'testName',\n",
    "    'outcome_subtype': 'testSubType',\n",
    "    'sex_upon_outcome': 'testOutcome',\n",
    "    'location_lat': 25.55,\n",
    "    'location_long': -25.55,\n",
    "    'age_upon_outcome_in_weeks': '323.433'    \n",
    "}\n",
    "\n",
    "sampleTarget = {'animal_type': 'testType'}\n",
    "sampleUpdate = {'$set': {'name': '22'}}\n",
    "sampleUpdateTwo = {'$set': {\n",
    "    'name': '21',\n",
    "    'animal_type': 'Dog'\n",
    "}}\n",
    "\n",
    "sampleDelete = {\n",
    "    'name': '21'\n",
    "}\n",
    "\n",
    "shelter.create(testData)\n",
    "shelter.read(sampleTarget)\n",
    "shelter.update(sampleTarget, sampleUpdate, 1)\n",
    "shelter.update(sampleTarget, sampleUpdateTwo, 2)\n",
    "shelter.deleteData(sampleDelete, 1)"
   ]
  },
  {
   "cell_type": "code",
   "execution_count": null,
   "metadata": {},
   "outputs": [],
   "source": []
  }
 ],
 "metadata": {
  "kernelspec": {
   "display_name": "Python 3",
   "language": "python",
   "name": "python3"
  },
  "language_info": {
   "codemirror_mode": {
    "name": "ipython",
    "version": 3
   },
   "file_extension": ".py",
   "mimetype": "text/x-python",
   "name": "python",
   "nbconvert_exporter": "python",
   "pygments_lexer": "ipython3",
   "version": "3.6.9"
  }
 },
 "nbformat": 4,
 "nbformat_minor": 2
}
